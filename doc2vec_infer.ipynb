{
 "cells": [
  {
   "cell_type": "code",
   "execution_count": 0,
   "metadata": {
    "colab": {
     "base_uri": "https://localhost:8080/",
     "height": 35
    },
    "colab_type": "code",
    "id": "GNl7K9nVpRBu",
    "outputId": "981b5085-e88d-47bf-9a54-21d36c16ec8b"
   },
   "outputs": [
    {
     "name": "stdout",
     "output_type": "stream",
     "text": [
      "Drive already mounted at /content/drive; to attempt to forcibly remount, call drive.mount(\"/content/drive\", force_remount=True).\n"
     ]
    }
   ],
   "source": [
    "#Get data from google drive\n",
    "from google.colab import drive\n",
    "drive.mount('/content/drive')"
   ]
  },
  {
   "cell_type": "code",
   "execution_count": 5,
   "metadata": {
    "colab": {
     "base_uri": "https://localhost:8080/",
     "height": 69
    },
    "colab_type": "code",
    "id": "DLarmELHpXyP",
    "outputId": "d216f84a-02e5-42a0-bbdf-1d920994479d"
   },
   "outputs": [
    {
     "name": "stdout",
     "output_type": "stream",
     "text": [
      "[nltk_data] Downloading package punkt to /root/nltk_data...\n",
      "[nltk_data]   Package punkt is already up-to-date!\n"
     ]
    },
    {
     "data": {
      "text/plain": [
       "True"
      ]
     },
     "execution_count": 5,
     "metadata": {
      "tags": []
     },
     "output_type": "execute_result"
    }
   ],
   "source": [
    "#Import Libraries\n",
    "import pandas as pd\n",
    "from gensim.models.doc2vec import Doc2Vec\n",
    "from nltk import word_tokenize\n",
    "from joblib import parallel_backend, Parallel, delayed\n",
    "from tqdm import *\n",
    "import numpy as np\n",
    "\n",
    "import nltk\n",
    "nltk.download(\"punkt\")"
   ]
  },
  {
   "cell_type": "code",
   "execution_count": 0,
   "metadata": {
    "colab": {
     "base_uri": "https://localhost:8080/",
     "height": 285
    },
    "colab_type": "code",
    "id": "qdgXVetapjRa",
    "outputId": "09264836-4d5a-46f1-c40f-38dbaa2dbf1d"
   },
   "outputs": [
    {
     "data": {
      "text/html": [
       "<div>\n",
       "<style scoped>\n",
       "    .dataframe tbody tr th:only-of-type {\n",
       "        vertical-align: middle;\n",
       "    }\n",
       "\n",
       "    .dataframe tbody tr th {\n",
       "        vertical-align: top;\n",
       "    }\n",
       "\n",
       "    .dataframe thead th {\n",
       "        text-align: right;\n",
       "    }\n",
       "</style>\n",
       "<table border=\"1\" class=\"dataframe\">\n",
       "  <thead>\n",
       "    <tr style=\"text-align: right;\">\n",
       "      <th></th>\n",
       "      <th>paper_id</th>\n",
       "      <th>title</th>\n",
       "      <th>abstract</th>\n",
       "      <th>text</th>\n",
       "      <th>type</th>\n",
       "    </tr>\n",
       "  </thead>\n",
       "  <tbody>\n",
       "    <tr>\n",
       "      <th>0</th>\n",
       "      <td>b2f67d533f2749807f2537f3775b39da3b186051</td>\n",
       "      <td>Caring for persons in detention suffering with...</td>\n",
       "      <td>NaN</td>\n",
       "      <td>Caring for persons in detention suffering with...</td>\n",
       "      <td>non-commercial</td>\n",
       "    </tr>\n",
       "    <tr>\n",
       "      <th>1</th>\n",
       "      <td>ad98979eada6e333a276d39efdce21779d538625</td>\n",
       "      <td>Xanthine-based acyclic nucleoside phosphonates...</td>\n",
       "      <td>While noncanonic xanthine nucleotides XMP/dXMP...</td>\n",
       "      <td>Xanthine-based acyclic nucleoside phosphonates...</td>\n",
       "      <td>non-commercial</td>\n",
       "    </tr>\n",
       "    <tr>\n",
       "      <th>2</th>\n",
       "      <td>464f7d3a460eb51dbc25bd12639b22079a73f85a</td>\n",
       "      <td>Viral lncRNA: A regulatory molecule for contro...</td>\n",
       "      <td>Long non-coding RNAs (lncRNAs) are found not o...</td>\n",
       "      <td>Viral lncRNA: A regulatory molecule for contro...</td>\n",
       "      <td>non-commercial</td>\n",
       "    </tr>\n",
       "    <tr>\n",
       "      <th>3</th>\n",
       "      <td>c436139975d97ef929b5d8452595de40bda0c11c</td>\n",
       "      <td>Phone: (1) 301-451-9881, jbeigel@niaid.nih.gov</td>\n",
       "      <td>on behalf of the IRC002 Study Team Summary Bac...</td>\n",
       "      <td>Phone: (1) 301-451-9881, jbeigel@niaid.nih.gov...</td>\n",
       "      <td>non-commercial</td>\n",
       "    </tr>\n",
       "    <tr>\n",
       "      <th>4</th>\n",
       "      <td>634128ea7d7736750e1c3cd0a48bb37843d06dac</td>\n",
       "      <td>A Strategy To Estimate Unknown Viral Diversity...</td>\n",
       "      <td>The majority of emerging zoonoses originate in...</td>\n",
       "      <td>A Strategy To Estimate Unknown Viral Diversity...</td>\n",
       "      <td>non-commercial</td>\n",
       "    </tr>\n",
       "  </tbody>\n",
       "</table>\n",
       "</div>"
      ],
      "text/plain": [
       "                                   paper_id  ...            type\n",
       "0  b2f67d533f2749807f2537f3775b39da3b186051  ...  non-commercial\n",
       "1  ad98979eada6e333a276d39efdce21779d538625  ...  non-commercial\n",
       "2  464f7d3a460eb51dbc25bd12639b22079a73f85a  ...  non-commercial\n",
       "3  c436139975d97ef929b5d8452595de40bda0c11c  ...  non-commercial\n",
       "4  634128ea7d7736750e1c3cd0a48bb37843d06dac  ...  non-commercial\n",
       "\n",
       "[5 rows x 5 columns]"
      ]
     },
     "execution_count": 4,
     "metadata": {
      "tags": []
     },
     "output_type": "execute_result"
    }
   ],
   "source": [
    "#Import article df\n",
    "articles = pd.read_csv(\"/content/drive/My Drive/article_df.csv\")\n",
    "articles.head()"
   ]
  },
  {
   "cell_type": "code",
   "execution_count": 31,
   "metadata": {
    "colab": {
     "base_uri": "https://localhost:8080/",
     "height": 141
    },
    "colab_type": "code",
    "id": "m7nmNo3tpu7T",
    "outputId": "319cceab-77d0-428f-f5f0-0e25e7682c80"
   },
   "outputs": [
    {
     "name": "stderr",
     "output_type": "stream",
     "text": [
      "/usr/local/lib/python3.6/dist-packages/smart_open/smart_open_lib.py:410: UserWarning: This function is deprecated, use smart_open.open instead. See the migration notes for details: https://github.com/RaRe-Technologies/smart_open/blob/master/README.rst#migrating-to-the-new-open-function\n",
      "  'See the migration notes for details: %s' % _MIGRATION_NOTES_URL\n",
      "/usr/local/lib/python3.6/dist-packages/gensim/models/doc2vec.py:566: UserWarning: The parameter `iter` is deprecated, will be removed in 4.0.0, use `epochs` instead.\n",
      "  warnings.warn(\"The parameter `iter` is deprecated, will be removed in 4.0.0, use `epochs` instead.\")\n",
      "/usr/local/lib/python3.6/dist-packages/gensim/models/doc2vec.py:570: UserWarning: The parameter `size` is deprecated, will be removed in 4.0.0, use `vector_size` instead.\n",
      "  warnings.warn(\"The parameter `size` is deprecated, will be removed in 4.0.0, use `vector_size` instead.\")\n"
     ]
    }
   ],
   "source": [
    "#Import doc2vec\n",
    "model = Doc2Vec.load(\"/content/drive/My Drive/doc2vec.bin\")"
   ]
  },
  {
   "cell_type": "code",
   "execution_count": 0,
   "metadata": {
    "colab": {},
    "colab_type": "code",
    "id": "swNfvYfDqd-v"
   },
   "outputs": [],
   "source": [
    "#Function: calculate doc2vec\n",
    "def calculate_doc2vec(i, df=articles, model=model, epochs=100):\n",
    "\n",
    "  #tokenize article text\n",
    "  title_abstract = df.title[i] + \" \" + df.abstract[i]\n",
    "  tokenized = word_tokenize(title_abstract.lower())\n",
    "  doc2vec = model.infer_vector(tokenized, epochs=epochs).tolist()\n",
    "\n",
    "  articles.loc[i, \"doc2vec_title_abstract\"] = doc2vec"
   ]
  },
  {
   "cell_type": "code",
   "execution_count": 74,
   "metadata": {
    "colab": {
     "base_uri": "https://localhost:8080/",
     "height": 546
    },
    "colab_type": "code",
    "id": "goiuzINHelCh",
    "outputId": "96221d16-9668-4f2a-a5a6-e846afbb154b"
   },
   "outputs": [
    {
     "data": {
      "text/html": [
       "<div>\n",
       "<style scoped>\n",
       "    .dataframe tbody tr th:only-of-type {\n",
       "        vertical-align: middle;\n",
       "    }\n",
       "\n",
       "    .dataframe tbody tr th {\n",
       "        vertical-align: top;\n",
       "    }\n",
       "\n",
       "    .dataframe thead th {\n",
       "        text-align: right;\n",
       "    }\n",
       "</style>\n",
       "<table border=\"1\" class=\"dataframe\">\n",
       "  <thead>\n",
       "    <tr style=\"text-align: right;\">\n",
       "      <th></th>\n",
       "      <th>paper_id</th>\n",
       "      <th>title</th>\n",
       "      <th>abstract</th>\n",
       "      <th>text</th>\n",
       "      <th>type</th>\n",
       "      <th>doc2vec</th>\n",
       "      <th>doc2vec_title_abstract</th>\n",
       "    </tr>\n",
       "  </thead>\n",
       "  <tbody>\n",
       "    <tr>\n",
       "      <th>0</th>\n",
       "      <td>ad98979eada6e333a276d39efdce21779d538625</td>\n",
       "      <td>Xanthine-based acyclic nucleoside phosphonates...</td>\n",
       "      <td>While noncanonic xanthine nucleotides XMP/dXMP...</td>\n",
       "      <td>Xanthine-based acyclic nucleoside phosphonates...</td>\n",
       "      <td>non-commercial</td>\n",
       "      <td>[-0.21714907884597778, -0.3641749918460846, -0...</td>\n",
       "      <td>[]</td>\n",
       "    </tr>\n",
       "    <tr>\n",
       "      <th>1</th>\n",
       "      <td>464f7d3a460eb51dbc25bd12639b22079a73f85a</td>\n",
       "      <td>Viral lncRNA: A regulatory molecule for contro...</td>\n",
       "      <td>Long non-coding RNAs (lncRNAs) are found not o...</td>\n",
       "      <td>Viral lncRNA: A regulatory molecule for contro...</td>\n",
       "      <td>non-commercial</td>\n",
       "      <td>[-0.19442467391490936, -0.0742512047290802, -0...</td>\n",
       "      <td>[]</td>\n",
       "    </tr>\n",
       "    <tr>\n",
       "      <th>2</th>\n",
       "      <td>c436139975d97ef929b5d8452595de40bda0c11c</td>\n",
       "      <td>Phone: (1) 301-451-9881, jbeigel@niaid.nih.gov</td>\n",
       "      <td>on behalf of the IRC002 Study Team Summary Bac...</td>\n",
       "      <td>Phone: (1) 301-451-9881, jbeigel@niaid.nih.gov...</td>\n",
       "      <td>non-commercial</td>\n",
       "      <td>[0.14343851804733276, 0.1714065968990326, -0.3...</td>\n",
       "      <td>[]</td>\n",
       "    </tr>\n",
       "    <tr>\n",
       "      <th>3</th>\n",
       "      <td>634128ea7d7736750e1c3cd0a48bb37843d06dac</td>\n",
       "      <td>A Strategy To Estimate Unknown Viral Diversity...</td>\n",
       "      <td>The majority of emerging zoonoses originate in...</td>\n",
       "      <td>A Strategy To Estimate Unknown Viral Diversity...</td>\n",
       "      <td>non-commercial</td>\n",
       "      <td>[-0.522060751914978, 0.021631771698594093, -0....</td>\n",
       "      <td>[]</td>\n",
       "    </tr>\n",
       "    <tr>\n",
       "      <th>4</th>\n",
       "      <td>fef0bb9eaac69559d0ff2f92ff83e0affd4435f0</td>\n",
       "      <td>Pathogenic Influenza Viruses and Coronaviruses...</td>\n",
       "      <td>The broad range and diversity of interferon-st...</td>\n",
       "      <td>Pathogenic Influenza Viruses and Coronaviruses...</td>\n",
       "      <td>non-commercial</td>\n",
       "      <td>[-0.029732080176472664, 0.6708524227142334, -0...</td>\n",
       "      <td>[]</td>\n",
       "    </tr>\n",
       "  </tbody>\n",
       "</table>\n",
       "</div>"
      ],
      "text/plain": [
       "                                   paper_id  ... doc2vec_title_abstract\n",
       "0  ad98979eada6e333a276d39efdce21779d538625  ...                     []\n",
       "1  464f7d3a460eb51dbc25bd12639b22079a73f85a  ...                     []\n",
       "2  c436139975d97ef929b5d8452595de40bda0c11c  ...                     []\n",
       "3  634128ea7d7736750e1c3cd0a48bb37843d06dac  ...                     []\n",
       "4  fef0bb9eaac69559d0ff2f92ff83e0affd4435f0  ...                     []\n",
       "\n",
       "[5 rows x 7 columns]"
      ]
     },
     "execution_count": 74,
     "metadata": {
      "tags": []
     },
     "output_type": "execute_result"
    }
   ],
   "source": [
    "#Add column doc2vec\n",
    "articles = articles.dropna().reset_index(drop=True)\n",
    "articles[\"doc2vec\"] = [[]] * articles.shape[0]\n",
    "articles.head()"
   ]
  },
  {
   "cell_type": "code",
   "execution_count": 77,
   "metadata": {
    "colab": {
     "base_uri": "https://localhost:8080/",
     "height": 35
    },
    "colab_type": "code",
    "id": "rrzxDB8weGTG",
    "outputId": "37dfd6cb-d69a-4872-8f7b-896050492183"
   },
   "outputs": [
    {
     "name": "stderr",
     "output_type": "stream",
     "text": [
      "100%|██████████| 23857/23857 [22:35<00:00, 17.60it/s]\n"
     ]
    }
   ],
   "source": [
    "#Apply doc2vec on all the articles\n",
    "with parallel_backend(\"threading\", n_jobs=40):\n",
    "  Parallel()(delayed(calculate_doc2vec)(i) for i in tqdm(range(articles.shape[0])))"
   ]
  },
  {
   "cell_type": "code",
   "execution_count": 0,
   "metadata": {
    "colab": {},
    "colab_type": "code",
    "id": "sk5coNPodCtZ"
   },
   "outputs": [],
   "source": [
    "#Save the new DF\n",
    "articles.to_pickle(\"/content/drive/My Drive/articles_new2.pkl\")"
   ]
  },
  {
   "cell_type": "code",
   "execution_count": 43,
   "metadata": {
    "colab": {
     "base_uri": "https://localhost:8080/",
     "height": 371
    },
    "colab_type": "code",
    "id": "YYXxGX4pwNth",
    "outputId": "dd4a0bf7-643b-4020-9ae2-edde0b6cbbda"
   },
   "outputs": [
    {
     "data": {
      "text/html": [
       "<div>\n",
       "<style scoped>\n",
       "    .dataframe tbody tr th:only-of-type {\n",
       "        vertical-align: middle;\n",
       "    }\n",
       "\n",
       "    .dataframe tbody tr th {\n",
       "        vertical-align: top;\n",
       "    }\n",
       "\n",
       "    .dataframe thead th {\n",
       "        text-align: right;\n",
       "    }\n",
       "</style>\n",
       "<table border=\"1\" class=\"dataframe\">\n",
       "  <thead>\n",
       "    <tr style=\"text-align: right;\">\n",
       "      <th></th>\n",
       "      <th>paper_id</th>\n",
       "      <th>title</th>\n",
       "      <th>abstract</th>\n",
       "      <th>text</th>\n",
       "      <th>type</th>\n",
       "      <th>doc2vec</th>\n",
       "    </tr>\n",
       "  </thead>\n",
       "  <tbody>\n",
       "    <tr>\n",
       "      <th>0</th>\n",
       "      <td>ad98979eada6e333a276d39efdce21779d538625</td>\n",
       "      <td>Xanthine-based acyclic nucleoside phosphonates...</td>\n",
       "      <td>While noncanonic xanthine nucleotides XMP/dXMP...</td>\n",
       "      <td>Xanthine-based acyclic nucleoside phosphonates...</td>\n",
       "      <td>non-commercial</td>\n",
       "      <td>[-0.21714907884597778, -0.3641749918460846, -0...</td>\n",
       "    </tr>\n",
       "    <tr>\n",
       "      <th>1</th>\n",
       "      <td>464f7d3a460eb51dbc25bd12639b22079a73f85a</td>\n",
       "      <td>Viral lncRNA: A regulatory molecule for contro...</td>\n",
       "      <td>Long non-coding RNAs (lncRNAs) are found not o...</td>\n",
       "      <td>Viral lncRNA: A regulatory molecule for contro...</td>\n",
       "      <td>non-commercial</td>\n",
       "      <td>[-0.19442467391490936, -0.0742512047290802, -0...</td>\n",
       "    </tr>\n",
       "    <tr>\n",
       "      <th>2</th>\n",
       "      <td>c436139975d97ef929b5d8452595de40bda0c11c</td>\n",
       "      <td>Phone: (1) 301-451-9881, jbeigel@niaid.nih.gov</td>\n",
       "      <td>on behalf of the IRC002 Study Team Summary Bac...</td>\n",
       "      <td>Phone: (1) 301-451-9881, jbeigel@niaid.nih.gov...</td>\n",
       "      <td>non-commercial</td>\n",
       "      <td>[0.14343851804733276, 0.1714065968990326, -0.3...</td>\n",
       "    </tr>\n",
       "    <tr>\n",
       "      <th>3</th>\n",
       "      <td>634128ea7d7736750e1c3cd0a48bb37843d06dac</td>\n",
       "      <td>A Strategy To Estimate Unknown Viral Diversity...</td>\n",
       "      <td>The majority of emerging zoonoses originate in...</td>\n",
       "      <td>A Strategy To Estimate Unknown Viral Diversity...</td>\n",
       "      <td>non-commercial</td>\n",
       "      <td>[-0.522060751914978, 0.021631771698594093, -0....</td>\n",
       "    </tr>\n",
       "    <tr>\n",
       "      <th>4</th>\n",
       "      <td>fef0bb9eaac69559d0ff2f92ff83e0affd4435f0</td>\n",
       "      <td>Pathogenic Influenza Viruses and Coronaviruses...</td>\n",
       "      <td>The broad range and diversity of interferon-st...</td>\n",
       "      <td>Pathogenic Influenza Viruses and Coronaviruses...</td>\n",
       "      <td>non-commercial</td>\n",
       "      <td>[-0.029732080176472664, 0.6708524227142334, -0...</td>\n",
       "    </tr>\n",
       "  </tbody>\n",
       "</table>\n",
       "</div>"
      ],
      "text/plain": [
       "                                   paper_id  ...                                            doc2vec\n",
       "0  ad98979eada6e333a276d39efdce21779d538625  ...  [-0.21714907884597778, -0.3641749918460846, -0...\n",
       "1  464f7d3a460eb51dbc25bd12639b22079a73f85a  ...  [-0.19442467391490936, -0.0742512047290802, -0...\n",
       "2  c436139975d97ef929b5d8452595de40bda0c11c  ...  [0.14343851804733276, 0.1714065968990326, -0.3...\n",
       "3  634128ea7d7736750e1c3cd0a48bb37843d06dac  ...  [-0.522060751914978, 0.021631771698594093, -0....\n",
       "4  fef0bb9eaac69559d0ff2f92ff83e0affd4435f0  ...  [-0.029732080176472664, 0.6708524227142334, -0...\n",
       "\n",
       "[5 rows x 6 columns]"
      ]
     },
     "execution_count": 43,
     "metadata": {
      "tags": []
     },
     "output_type": "execute_result"
    }
   ],
   "source": [
    "#Read new articles\n",
    "articles = pd.read_pickle(\"/content/drive/My Drive/articles_new.pkl\")\n",
    "articles = articles.dropna().reset_index(drop=True)\n",
    "articles.head()"
   ]
  },
  {
   "cell_type": "code",
   "execution_count": 0,
   "metadata": {
    "colab": {},
    "colab_type": "code",
    "id": "IQO45dh8GUMI"
   },
   "outputs": [],
   "source": [
    "#Import doc2vec\n",
    "model = Doc2Vec.load(\"/content/drive/My Drive/doc2vec.bin\")"
   ]
  },
  {
   "cell_type": "code",
   "execution_count": 0,
   "metadata": {
    "colab": {},
    "colab_type": "code",
    "id": "m1LYLFZIjbm6"
   },
   "outputs": [],
   "source": [
    "#Function: Calculate similarity\n",
    "def calculate_similarity(query_text, df, top_n=10):\n",
    "\n",
    "  #Build doc2vec for the query text\n",
    "  query_tokenized = word_tokenize(query_text.lower())\n",
    "  query_doc2vec = model.infer_vector(query_tokenized, epochs=100)\n",
    "\n",
    "  #Extract loaded doc2vec\n",
    "  loaded_doc2vec = np.array(df.doc2vec_title_abstract.tolist())\n",
    "\n",
    "  #calculate similarity\n",
    "  similarity_l2 = np.linalg.norm(loaded_doc2vec - query_doc2vec, axis = 1)\n",
    "  top_results = np.argsort(similarity_l2)[:top_n].tolist()\n",
    "  print(top_results)\n",
    "\n",
    "\n",
    "  #Print Results\n",
    "  for i in top_results:\n",
    "    print(\"+\"*130)\n",
    "    print(\"Title:\\n\")\n",
    "    print(df.title[i])\n",
    "    print(\"\\nAbstract:\\n\")\n",
    "    print(df.abstract[i])"
   ]
  },
  {
   "cell_type": "code",
   "execution_count": 0,
   "metadata": {
    "colab": {},
    "colab_type": "code",
    "id": "WViI6jb6MZJA"
   },
   "outputs": [],
   "source": []
  }
 ],
 "metadata": {
  "colab": {
   "collapsed_sections": [],
   "machine_shape": "hm",
   "name": "doc2vec_infer.ipynb",
   "provenance": []
  },
  "kernelspec": {
   "display_name": "Python 3",
   "language": "python",
   "name": "python3"
  },
  "language_info": {
   "codemirror_mode": {
    "name": "ipython",
    "version": 3
   },
   "file_extension": ".py",
   "mimetype": "text/x-python",
   "name": "python",
   "nbconvert_exporter": "python",
   "pygments_lexer": "ipython3",
   "version": "3.7.4"
  }
 },
 "nbformat": 4,
 "nbformat_minor": 1
}
