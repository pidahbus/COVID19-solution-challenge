{
  "nbformat": 4,
  "nbformat_minor": 0,
  "metadata": {
    "kernelspec": {
      "display_name": "Python 3",
      "language": "python",
      "name": "python3"
    },
    "language_info": {
      "codemirror_mode": {
        "name": "ipython",
        "version": 3
      },
      "file_extension": ".py",
      "mimetype": "text/x-python",
      "name": "python",
      "nbconvert_exporter": "python",
      "pygments_lexer": "ipython3",
      "version": "3.7.4"
    },
    "colab": {
      "name": "prepare_data.ipynb",
      "provenance": [],
      "collapsed_sections": [],
      "machine_shape": "hm"
    }
  },
  "cells": [
    {
      "cell_type": "code",
      "metadata": {
        "id": "yJu5N-5WxPgL",
        "colab_type": "code",
        "outputId": "779b4ffa-0889-4141-a403-afa453843f46",
        "colab": {
          "base_uri": "https://localhost:8080/",
          "height": 69
        }
      },
      "source": [
        "#Import Libraries\n",
        "import json\n",
        "import pandas as pd\n",
        "import glob\n",
        "import numpy as np\n",
        "\n",
        "from gensim.models.doc2vec import Doc2Vec, TaggedDocument\n",
        "from nltk import word_tokenize\n",
        "import nltk\n",
        "nltk.download(\"punkt\")"
      ],
      "execution_count": 1,
      "outputs": [
        {
          "output_type": "stream",
          "text": [
            "[nltk_data] Downloading package punkt to /root/nltk_data...\n",
            "[nltk_data]   Unzipping tokenizers/punkt.zip.\n"
          ],
          "name": "stdout"
        },
        {
          "output_type": "execute_result",
          "data": {
            "text/plain": [
              "True"
            ]
          },
          "metadata": {
            "tags": []
          },
          "execution_count": 1
        }
      ]
    },
    {
      "cell_type": "code",
      "metadata": {
        "id": "PWoQkwx4yAM_",
        "colab_type": "code",
        "outputId": "fde256fc-ab00-4ab1-a591-5d498bb89ea9",
        "colab": {
          "base_uri": "https://localhost:8080/",
          "height": 124
        }
      },
      "source": [
        "#Get data from google drive\n",
        "from google.colab import drive\n",
        "drive.mount('/content/drive')\n"
      ],
      "execution_count": 2,
      "outputs": [
        {
          "output_type": "stream",
          "text": [
            "Go to this URL in a browser: https://accounts.google.com/o/oauth2/auth?client_id=947318989803-6bn6qk8qdgf4n4g3pfee6491hc0brc4i.apps.googleusercontent.com&redirect_uri=urn%3aietf%3awg%3aoauth%3a2.0%3aoob&response_type=code&scope=email%20https%3a%2f%2fwww.googleapis.com%2fauth%2fdocs.test%20https%3a%2f%2fwww.googleapis.com%2fauth%2fdrive%20https%3a%2f%2fwww.googleapis.com%2fauth%2fdrive.photos.readonly%20https%3a%2f%2fwww.googleapis.com%2fauth%2fpeopleapi.readonly\n",
            "\n",
            "Enter your authorization code:\n",
            "··········\n",
            "Mounted at /content/drive\n"
          ],
          "name": "stdout"
        }
      ]
    },
    {
      "cell_type": "code",
      "metadata": {
        "id": "nh09Zg53xPgQ",
        "colab_type": "code",
        "colab": {}
      },
      "source": [
        "#Function: Prepare dataframe\n",
        "def extract_text(json_path):\n",
        "    \n",
        "    #Read json file\n",
        "    with open(json_path) as file:\n",
        "        article = json.load(file)\n",
        "        \n",
        "    #Read paper id\n",
        "    paper_id = article[\"paper_id\"]\n",
        "    \n",
        "    \n",
        "    #Read title\n",
        "    title = article[\"metadata\"][\"title\"]\n",
        "    article_text = title\n",
        "    \n",
        "    #Read abstract\n",
        "    abstract = \"\"\n",
        "    for part in article[\"abstract\"]:\n",
        "        abstract = abstract + \" \" + part[\"text\"]   \n",
        "    article_text = article_text + \" \" + abstract\n",
        "        \n",
        "    #Read body text\n",
        "    for part in article[\"body_text\"]:\n",
        "        article_text = article_text + \" \" + part[\"text\"]\n",
        "        \n",
        "        \n",
        "    #Return values\n",
        "    return paper_id, title, abstract.strip(), article_text.strip()\n",
        "    "
      ],
      "execution_count": 0,
      "outputs": []
    },
    {
      "cell_type": "markdown",
      "metadata": {
        "id": "4NQlc4b-xPgT",
        "colab_type": "text"
      },
      "source": [
        "# Non-Commercial Data"
      ]
    },
    {
      "cell_type": "code",
      "metadata": {
        "id": "4yeVIn1GxPgU",
        "colab_type": "code",
        "outputId": "31b0112a-d01c-4fc7-bf7d-875895a04aee",
        "colab": {}
      },
      "source": [
        "#article extraction for non-commercial\n",
        "json_paths = glob.glob(\"../noncomm_use_subset/*.json\")\n",
        "df = pd.DataFrame(np.zeros((len(json_paths), 4)), columns=[\"paper_id\", \"title\", \"abstract\", \"text\"])\n",
        "\n",
        "for i in range(len(json_paths)):\n",
        "    paper_id, title, abstract, text = extract_text(json_paths[i])\n",
        "    df.paper_id[i] = paper_id\n",
        "    df.title[i] = title\n",
        "    df.abstract[i] = abstract\n",
        "    df.text[i] = text\n",
        "    \n",
        "df.to_csv(\"../intermediate_result/noncomm.csv\", index=False)\n",
        "df.head()"
      ],
      "execution_count": 0,
      "outputs": [
        {
          "output_type": "stream",
          "text": [
            "/Users/pidahbus/anaconda3/envs/PidaVision/lib/python3.7/site-packages/ipykernel_launcher.py:8: SettingWithCopyWarning: \n",
            "A value is trying to be set on a copy of a slice from a DataFrame\n",
            "\n",
            "See the caveats in the documentation: https://pandas.pydata.org/pandas-docs/stable/user_guide/indexing.html#returning-a-view-versus-a-copy\n",
            "  \n",
            "/Users/pidahbus/anaconda3/envs/PidaVision/lib/python3.7/site-packages/pandas/core/indexing.py:671: SettingWithCopyWarning: \n",
            "A value is trying to be set on a copy of a slice from a DataFrame\n",
            "\n",
            "See the caveats in the documentation: https://pandas.pydata.org/pandas-docs/stable/user_guide/indexing.html#returning-a-view-versus-a-copy\n",
            "  self._setitem_with_indexer(indexer, value)\n",
            "/Users/pidahbus/anaconda3/envs/PidaVision/lib/python3.7/site-packages/ipykernel_launcher.py:9: SettingWithCopyWarning: \n",
            "A value is trying to be set on a copy of a slice from a DataFrame\n",
            "\n",
            "See the caveats in the documentation: https://pandas.pydata.org/pandas-docs/stable/user_guide/indexing.html#returning-a-view-versus-a-copy\n",
            "  if __name__ == '__main__':\n",
            "/Users/pidahbus/anaconda3/envs/PidaVision/lib/python3.7/site-packages/ipykernel_launcher.py:10: SettingWithCopyWarning: \n",
            "A value is trying to be set on a copy of a slice from a DataFrame\n",
            "\n",
            "See the caveats in the documentation: https://pandas.pydata.org/pandas-docs/stable/user_guide/indexing.html#returning-a-view-versus-a-copy\n",
            "  # Remove the CWD from sys.path while we load stuff.\n"
          ],
          "name": "stderr"
        },
        {
          "output_type": "execute_result",
          "data": {
            "text/html": [
              "<div>\n",
              "<style scoped>\n",
              "    .dataframe tbody tr th:only-of-type {\n",
              "        vertical-align: middle;\n",
              "    }\n",
              "\n",
              "    .dataframe tbody tr th {\n",
              "        vertical-align: top;\n",
              "    }\n",
              "\n",
              "    .dataframe thead th {\n",
              "        text-align: right;\n",
              "    }\n",
              "</style>\n",
              "<table border=\"1\" class=\"dataframe\">\n",
              "  <thead>\n",
              "    <tr style=\"text-align: right;\">\n",
              "      <th></th>\n",
              "      <th>paper_id</th>\n",
              "      <th>title</th>\n",
              "      <th>abstract</th>\n",
              "      <th>text</th>\n",
              "    </tr>\n",
              "  </thead>\n",
              "  <tbody>\n",
              "    <tr>\n",
              "      <th>0</th>\n",
              "      <td>b2f67d533f2749807f2537f3775b39da3b186051</td>\n",
              "      <td>Caring for persons in detention suffering with...</td>\n",
              "      <td></td>\n",
              "      <td>Caring for persons in detention suffering with...</td>\n",
              "    </tr>\n",
              "    <tr>\n",
              "      <th>1</th>\n",
              "      <td>ad98979eada6e333a276d39efdce21779d538625</td>\n",
              "      <td>Xanthine-based acyclic nucleoside phosphonates...</td>\n",
              "      <td>While noncanonic xanthine nucleotides XMP/dXMP...</td>\n",
              "      <td>Xanthine-based acyclic nucleoside phosphonates...</td>\n",
              "    </tr>\n",
              "    <tr>\n",
              "      <th>2</th>\n",
              "      <td>464f7d3a460eb51dbc25bd12639b22079a73f85a</td>\n",
              "      <td>Viral lncRNA: A regulatory molecule for contro...</td>\n",
              "      <td>Long non-coding RNAs (lncRNAs) are found not o...</td>\n",
              "      <td>Viral lncRNA: A regulatory molecule for contro...</td>\n",
              "    </tr>\n",
              "    <tr>\n",
              "      <th>3</th>\n",
              "      <td>c436139975d97ef929b5d8452595de40bda0c11c</td>\n",
              "      <td>Phone: (1) 301-451-9881, jbeigel@niaid.nih.gov</td>\n",
              "      <td>on behalf of the IRC002 Study Team Summary Bac...</td>\n",
              "      <td>Phone: (1) 301-451-9881, jbeigel@niaid.nih.gov...</td>\n",
              "    </tr>\n",
              "    <tr>\n",
              "      <th>4</th>\n",
              "      <td>634128ea7d7736750e1c3cd0a48bb37843d06dac</td>\n",
              "      <td>A Strategy To Estimate Unknown Viral Diversity...</td>\n",
              "      <td>The majority of emerging zoonoses originate in...</td>\n",
              "      <td>A Strategy To Estimate Unknown Viral Diversity...</td>\n",
              "    </tr>\n",
              "  </tbody>\n",
              "</table>\n",
              "</div>"
            ],
            "text/plain": [
              "                                   paper_id  \\\n",
              "0  b2f67d533f2749807f2537f3775b39da3b186051   \n",
              "1  ad98979eada6e333a276d39efdce21779d538625   \n",
              "2  464f7d3a460eb51dbc25bd12639b22079a73f85a   \n",
              "3  c436139975d97ef929b5d8452595de40bda0c11c   \n",
              "4  634128ea7d7736750e1c3cd0a48bb37843d06dac   \n",
              "\n",
              "                                               title  \\\n",
              "0  Caring for persons in detention suffering with...   \n",
              "1  Xanthine-based acyclic nucleoside phosphonates...   \n",
              "2  Viral lncRNA: A regulatory molecule for contro...   \n",
              "3     Phone: (1) 301-451-9881, jbeigel@niaid.nih.gov   \n",
              "4  A Strategy To Estimate Unknown Viral Diversity...   \n",
              "\n",
              "                                            abstract  \\\n",
              "0                                                      \n",
              "1  While noncanonic xanthine nucleotides XMP/dXMP...   \n",
              "2  Long non-coding RNAs (lncRNAs) are found not o...   \n",
              "3  on behalf of the IRC002 Study Team Summary Bac...   \n",
              "4  The majority of emerging zoonoses originate in...   \n",
              "\n",
              "                                                text  \n",
              "0  Caring for persons in detention suffering with...  \n",
              "1  Xanthine-based acyclic nucleoside phosphonates...  \n",
              "2  Viral lncRNA: A regulatory molecule for contro...  \n",
              "3  Phone: (1) 301-451-9881, jbeigel@niaid.nih.gov...  \n",
              "4  A Strategy To Estimate Unknown Viral Diversity...  "
            ]
          },
          "metadata": {
            "tags": []
          },
          "execution_count": 63
        }
      ]
    },
    {
      "cell_type": "markdown",
      "metadata": {
        "id": "GCvIRWEXxPgY",
        "colab_type": "text"
      },
      "source": [
        "# Commercial "
      ]
    },
    {
      "cell_type": "code",
      "metadata": {
        "id": "lH0_RsxAxPgY",
        "colab_type": "code",
        "outputId": "a5170953-61ab-4c11-e9a5-badc3d9e6068",
        "colab": {}
      },
      "source": [
        "#article extraction for non-commercial\n",
        "json_paths = glob.glob(\"../comm_use_subset/*.json\")\n",
        "df = pd.DataFrame(np.zeros((len(json_paths), 4)), columns=[\"paper_id\", \"title\", \"abstract\", \"text\"])\n",
        "\n",
        "for i in range(len(json_paths)):\n",
        "    paper_id, title, abstract, text = extract_text(json_paths[i])\n",
        "    df.paper_id[i] = paper_id\n",
        "    df.title[i] = title\n",
        "    df.abstract[i] = abstract\n",
        "    df.text[i] = text\n",
        "    \n",
        "df.to_csv(\"../intermediate_result/comm.csv\", index=False)\n",
        "df.head()"
      ],
      "execution_count": 0,
      "outputs": [
        {
          "output_type": "stream",
          "text": [
            "/Users/pidahbus/anaconda3/envs/PidaVision/lib/python3.7/site-packages/ipykernel_launcher.py:8: SettingWithCopyWarning: \n",
            "A value is trying to be set on a copy of a slice from a DataFrame\n",
            "\n",
            "See the caveats in the documentation: https://pandas.pydata.org/pandas-docs/stable/user_guide/indexing.html#returning-a-view-versus-a-copy\n",
            "  \n",
            "/Users/pidahbus/anaconda3/envs/PidaVision/lib/python3.7/site-packages/pandas/core/indexing.py:671: SettingWithCopyWarning: \n",
            "A value is trying to be set on a copy of a slice from a DataFrame\n",
            "\n",
            "See the caveats in the documentation: https://pandas.pydata.org/pandas-docs/stable/user_guide/indexing.html#returning-a-view-versus-a-copy\n",
            "  self._setitem_with_indexer(indexer, value)\n",
            "/Users/pidahbus/anaconda3/envs/PidaVision/lib/python3.7/site-packages/ipykernel_launcher.py:9: SettingWithCopyWarning: \n",
            "A value is trying to be set on a copy of a slice from a DataFrame\n",
            "\n",
            "See the caveats in the documentation: https://pandas.pydata.org/pandas-docs/stable/user_guide/indexing.html#returning-a-view-versus-a-copy\n",
            "  if __name__ == '__main__':\n",
            "/Users/pidahbus/anaconda3/envs/PidaVision/lib/python3.7/site-packages/ipykernel_launcher.py:10: SettingWithCopyWarning: \n",
            "A value is trying to be set on a copy of a slice from a DataFrame\n",
            "\n",
            "See the caveats in the documentation: https://pandas.pydata.org/pandas-docs/stable/user_guide/indexing.html#returning-a-view-versus-a-copy\n",
            "  # Remove the CWD from sys.path while we load stuff.\n"
          ],
          "name": "stderr"
        },
        {
          "output_type": "execute_result",
          "data": {
            "text/html": [
              "<div>\n",
              "<style scoped>\n",
              "    .dataframe tbody tr th:only-of-type {\n",
              "        vertical-align: middle;\n",
              "    }\n",
              "\n",
              "    .dataframe tbody tr th {\n",
              "        vertical-align: top;\n",
              "    }\n",
              "\n",
              "    .dataframe thead th {\n",
              "        text-align: right;\n",
              "    }\n",
              "</style>\n",
              "<table border=\"1\" class=\"dataframe\">\n",
              "  <thead>\n",
              "    <tr style=\"text-align: right;\">\n",
              "      <th></th>\n",
              "      <th>paper_id</th>\n",
              "      <th>title</th>\n",
              "      <th>abstract</th>\n",
              "      <th>text</th>\n",
              "    </tr>\n",
              "  </thead>\n",
              "  <tbody>\n",
              "    <tr>\n",
              "      <th>0</th>\n",
              "      <td>5e0c586f047ff909c8ed3fe171c8975a90608d08</td>\n",
              "      <td>Neutralizing antibodies against porcine epidem...</td>\n",
              "      <td>Background: Porcine epidemic diarrhea virus (P...</td>\n",
              "      <td>Neutralizing antibodies against porcine epidem...</td>\n",
              "    </tr>\n",
              "    <tr>\n",
              "      <th>1</th>\n",
              "      <td>1579fbff7af9b156c6f49fee0526e48f852ea460</td>\n",
              "      <td>A Recombinant Newcastle Disease Virus (NDV) Ex...</td>\n",
              "      <td>Currently, live-attenuated IBV vaccines are us...</td>\n",
              "      <td>A Recombinant Newcastle Disease Virus (NDV) Ex...</td>\n",
              "    </tr>\n",
              "    <tr>\n",
              "      <th>2</th>\n",
              "      <td>e0668c4b793d0cad26639b070819334a94648123</td>\n",
              "      <td>GP-confirmed complete Achilles tendon rupture ...</td>\n",
              "      <td></td>\n",
              "      <td>GP-confirmed complete Achilles tendon rupture ...</td>\n",
              "    </tr>\n",
              "    <tr>\n",
              "      <th>3</th>\n",
              "      <td>38aa050ad79d8a1d7022c33535255ce9d47914e5</td>\n",
              "      <td>Potent Inhibition of Junín Virus Infection by ...</td>\n",
              "      <td>The new world arenavirus Junín virus (JUNV) is...</td>\n",
              "      <td>Potent Inhibition of Junín Virus Infection by ...</td>\n",
              "    </tr>\n",
              "    <tr>\n",
              "      <th>4</th>\n",
              "      <td>61722c462b054f36461375e96e502cbf22648c04</td>\n",
              "      <td>2 convergent Research center for emerging Viru...</td>\n",
              "      <td>and subtropical countries and is a significant...</td>\n",
              "      <td>2 convergent Research center for emerging Viru...</td>\n",
              "    </tr>\n",
              "  </tbody>\n",
              "</table>\n",
              "</div>"
            ],
            "text/plain": [
              "                                   paper_id  \\\n",
              "0  5e0c586f047ff909c8ed3fe171c8975a90608d08   \n",
              "1  1579fbff7af9b156c6f49fee0526e48f852ea460   \n",
              "2  e0668c4b793d0cad26639b070819334a94648123   \n",
              "3  38aa050ad79d8a1d7022c33535255ce9d47914e5   \n",
              "4  61722c462b054f36461375e96e502cbf22648c04   \n",
              "\n",
              "                                               title  \\\n",
              "0  Neutralizing antibodies against porcine epidem...   \n",
              "1  A Recombinant Newcastle Disease Virus (NDV) Ex...   \n",
              "2  GP-confirmed complete Achilles tendon rupture ...   \n",
              "3  Potent Inhibition of Junín Virus Infection by ...   \n",
              "4  2 convergent Research center for emerging Viru...   \n",
              "\n",
              "                                            abstract  \\\n",
              "0  Background: Porcine epidemic diarrhea virus (P...   \n",
              "1  Currently, live-attenuated IBV vaccines are us...   \n",
              "2                                                      \n",
              "3  The new world arenavirus Junín virus (JUNV) is...   \n",
              "4  and subtropical countries and is a significant...   \n",
              "\n",
              "                                                text  \n",
              "0  Neutralizing antibodies against porcine epidem...  \n",
              "1  A Recombinant Newcastle Disease Virus (NDV) Ex...  \n",
              "2  GP-confirmed complete Achilles tendon rupture ...  \n",
              "3  Potent Inhibition of Junín Virus Infection by ...  \n",
              "4  2 convergent Research center for emerging Viru...  "
            ]
          },
          "metadata": {
            "tags": []
          },
          "execution_count": 66
        }
      ]
    },
    {
      "cell_type": "markdown",
      "metadata": {
        "id": "nk4lzzzyxPgc",
        "colab_type": "text"
      },
      "source": [
        "# BiorXiv and MedrXiv"
      ]
    },
    {
      "cell_type": "code",
      "metadata": {
        "id": "gs-6rxDAxPgc",
        "colab_type": "code",
        "outputId": "e41b20da-f762-4c9a-802d-bd4d9ef6cf7e",
        "colab": {}
      },
      "source": [
        "#article extraction for biorXiv and medrXiv\n",
        "json_paths = glob.glob(\"../biorxiv_medrxiv/*.json\")\n",
        "df = pd.DataFrame(np.zeros((len(json_paths), 4)), columns=[\"paper_id\", \"title\", \"abstract\", \"text\"])\n",
        "\n",
        "for i in range(len(json_paths)):\n",
        "    paper_id, title, abstract, text = extract_text(json_paths[i])\n",
        "    df.paper_id[i] = paper_id\n",
        "    df.title[i] = title\n",
        "    df.abstract[i] = abstract\n",
        "    df.text[i] = text\n",
        "    \n",
        "df.to_csv(\"../intermediate_result/biorxiv_medrxiv.csv\", index=False)\n",
        "df.head()"
      ],
      "execution_count": 0,
      "outputs": [
        {
          "output_type": "stream",
          "text": [
            "/Users/pidahbus/anaconda3/envs/PidaVision/lib/python3.7/site-packages/ipykernel_launcher.py:8: SettingWithCopyWarning: \n",
            "A value is trying to be set on a copy of a slice from a DataFrame\n",
            "\n",
            "See the caveats in the documentation: https://pandas.pydata.org/pandas-docs/stable/user_guide/indexing.html#returning-a-view-versus-a-copy\n",
            "  \n",
            "/Users/pidahbus/anaconda3/envs/PidaVision/lib/python3.7/site-packages/pandas/core/indexing.py:671: SettingWithCopyWarning: \n",
            "A value is trying to be set on a copy of a slice from a DataFrame\n",
            "\n",
            "See the caveats in the documentation: https://pandas.pydata.org/pandas-docs/stable/user_guide/indexing.html#returning-a-view-versus-a-copy\n",
            "  self._setitem_with_indexer(indexer, value)\n",
            "/Users/pidahbus/anaconda3/envs/PidaVision/lib/python3.7/site-packages/ipykernel_launcher.py:9: SettingWithCopyWarning: \n",
            "A value is trying to be set on a copy of a slice from a DataFrame\n",
            "\n",
            "See the caveats in the documentation: https://pandas.pydata.org/pandas-docs/stable/user_guide/indexing.html#returning-a-view-versus-a-copy\n",
            "  if __name__ == '__main__':\n",
            "/Users/pidahbus/anaconda3/envs/PidaVision/lib/python3.7/site-packages/ipykernel_launcher.py:10: SettingWithCopyWarning: \n",
            "A value is trying to be set on a copy of a slice from a DataFrame\n",
            "\n",
            "See the caveats in the documentation: https://pandas.pydata.org/pandas-docs/stable/user_guide/indexing.html#returning-a-view-versus-a-copy\n",
            "  # Remove the CWD from sys.path while we load stuff.\n"
          ],
          "name": "stderr"
        },
        {
          "output_type": "execute_result",
          "data": {
            "text/html": [
              "<div>\n",
              "<style scoped>\n",
              "    .dataframe tbody tr th:only-of-type {\n",
              "        vertical-align: middle;\n",
              "    }\n",
              "\n",
              "    .dataframe tbody tr th {\n",
              "        vertical-align: top;\n",
              "    }\n",
              "\n",
              "    .dataframe thead th {\n",
              "        text-align: right;\n",
              "    }\n",
              "</style>\n",
              "<table border=\"1\" class=\"dataframe\">\n",
              "  <thead>\n",
              "    <tr style=\"text-align: right;\">\n",
              "      <th></th>\n",
              "      <th>paper_id</th>\n",
              "      <th>title</th>\n",
              "      <th>abstract</th>\n",
              "      <th>text</th>\n",
              "    </tr>\n",
              "  </thead>\n",
              "  <tbody>\n",
              "    <tr>\n",
              "      <th>0</th>\n",
              "      <td>f905f78b32f63c6d14a79984dfb33f1b358b8ab4</td>\n",
              "      <td>Multimerization of HIV-1 integrase hinges on c...</td>\n",
              "      <td>New anti-AIDS treatments must be continually d...</td>\n",
              "      <td>Multimerization of HIV-1 integrase hinges on c...</td>\n",
              "    </tr>\n",
              "    <tr>\n",
              "      <th>1</th>\n",
              "      <td>abcfffafab399149d4adadd6bb458c4994e2025d</td>\n",
              "      <td>Time-varying transmission dynamics of Novel Co...</td>\n",
              "      <td>Rationale: Several studies have estimated basi...</td>\n",
              "      <td>Time-varying transmission dynamics of Novel Co...</td>\n",
              "    </tr>\n",
              "    <tr>\n",
              "      <th>2</th>\n",
              "      <td>0cb9c296684ca5e71462d825cab2827854a01544</td>\n",
              "      <td>p53 is not necessary for DUX4 pathology</td>\n",
              "      <td>Summary Statement: DUX4 is thought to mediate ...</td>\n",
              "      <td>p53 is not necessary for DUX4 pathology  Summa...</td>\n",
              "    </tr>\n",
              "    <tr>\n",
              "      <th>3</th>\n",
              "      <td>9bbfd3d34ee18ea1b9f4669331a6cee9c5992893</td>\n",
              "      <td>Virological assessment of hospitalized cases o...</td>\n",
              "      <td>emerged in late 2019 1,2 . Initial outbreaks i...</td>\n",
              "      <td>Virological assessment of hospitalized cases o...</td>\n",
              "    </tr>\n",
              "    <tr>\n",
              "      <th>4</th>\n",
              "      <td>1218f278a4f8d83dac14b23c8f698062812ef9d5</td>\n",
              "      <td>Potential impact of seasonal forcing on a SARS...</td>\n",
              "      <td>A novel coronavirus (SARS-CoV-2) first detecte...</td>\n",
              "      <td>Potential impact of seasonal forcing on a SARS...</td>\n",
              "    </tr>\n",
              "  </tbody>\n",
              "</table>\n",
              "</div>"
            ],
            "text/plain": [
              "                                   paper_id  \\\n",
              "0  f905f78b32f63c6d14a79984dfb33f1b358b8ab4   \n",
              "1  abcfffafab399149d4adadd6bb458c4994e2025d   \n",
              "2  0cb9c296684ca5e71462d825cab2827854a01544   \n",
              "3  9bbfd3d34ee18ea1b9f4669331a6cee9c5992893   \n",
              "4  1218f278a4f8d83dac14b23c8f698062812ef9d5   \n",
              "\n",
              "                                               title  \\\n",
              "0  Multimerization of HIV-1 integrase hinges on c...   \n",
              "1  Time-varying transmission dynamics of Novel Co...   \n",
              "2            p53 is not necessary for DUX4 pathology   \n",
              "3  Virological assessment of hospitalized cases o...   \n",
              "4  Potential impact of seasonal forcing on a SARS...   \n",
              "\n",
              "                                            abstract  \\\n",
              "0  New anti-AIDS treatments must be continually d...   \n",
              "1  Rationale: Several studies have estimated basi...   \n",
              "2  Summary Statement: DUX4 is thought to mediate ...   \n",
              "3  emerged in late 2019 1,2 . Initial outbreaks i...   \n",
              "4  A novel coronavirus (SARS-CoV-2) first detecte...   \n",
              "\n",
              "                                                text  \n",
              "0  Multimerization of HIV-1 integrase hinges on c...  \n",
              "1  Time-varying transmission dynamics of Novel Co...  \n",
              "2  p53 is not necessary for DUX4 pathology  Summa...  \n",
              "3  Virological assessment of hospitalized cases o...  \n",
              "4  Potential impact of seasonal forcing on a SARS...  "
            ]
          },
          "metadata": {
            "tags": []
          },
          "execution_count": 77
        }
      ]
    },
    {
      "cell_type": "markdown",
      "metadata": {
        "id": "eQrz5ty-xPgf",
        "colab_type": "text"
      },
      "source": [
        "# Elsevier"
      ]
    },
    {
      "cell_type": "code",
      "metadata": {
        "id": "qdxvSl2rxPgg",
        "colab_type": "code",
        "outputId": "dc02c6c6-278c-4a84-9e7c-dcf9afc5c6be",
        "colab": {}
      },
      "source": [
        "#article extraction for elsevier\n",
        "json_paths = glob.glob(\"../custom_license/*.json\")\n",
        "df = pd.DataFrame(np.zeros((len(json_paths), 4)), columns=[\"paper_id\", \"title\", \"abstract\", \"text\"])\n",
        "\n",
        "for i in range(len(json_paths)):\n",
        "    paper_id, title, abstract, text = extract_text(json_paths[i])\n",
        "    df.paper_id[i] = paper_id\n",
        "    df.title[i] = title\n",
        "    df.abstract[i] = abstract\n",
        "    df.text[i] = text\n",
        "    \n",
        "df.to_csv(\"../intermediate_result/elsevier.csv\", index=False)\n",
        "df.head()"
      ],
      "execution_count": 0,
      "outputs": [
        {
          "output_type": "stream",
          "text": [
            "/Users/pidahbus/anaconda3/envs/PidaVision/lib/python3.7/site-packages/ipykernel_launcher.py:8: SettingWithCopyWarning: \n",
            "A value is trying to be set on a copy of a slice from a DataFrame\n",
            "\n",
            "See the caveats in the documentation: https://pandas.pydata.org/pandas-docs/stable/user_guide/indexing.html#returning-a-view-versus-a-copy\n",
            "  \n",
            "/Users/pidahbus/anaconda3/envs/PidaVision/lib/python3.7/site-packages/pandas/core/indexing.py:671: SettingWithCopyWarning: \n",
            "A value is trying to be set on a copy of a slice from a DataFrame\n",
            "\n",
            "See the caveats in the documentation: https://pandas.pydata.org/pandas-docs/stable/user_guide/indexing.html#returning-a-view-versus-a-copy\n",
            "  self._setitem_with_indexer(indexer, value)\n",
            "/Users/pidahbus/anaconda3/envs/PidaVision/lib/python3.7/site-packages/ipykernel_launcher.py:9: SettingWithCopyWarning: \n",
            "A value is trying to be set on a copy of a slice from a DataFrame\n",
            "\n",
            "See the caveats in the documentation: https://pandas.pydata.org/pandas-docs/stable/user_guide/indexing.html#returning-a-view-versus-a-copy\n",
            "  if __name__ == '__main__':\n",
            "/Users/pidahbus/anaconda3/envs/PidaVision/lib/python3.7/site-packages/ipykernel_launcher.py:10: SettingWithCopyWarning: \n",
            "A value is trying to be set on a copy of a slice from a DataFrame\n",
            "\n",
            "See the caveats in the documentation: https://pandas.pydata.org/pandas-docs/stable/user_guide/indexing.html#returning-a-view-versus-a-copy\n",
            "  # Remove the CWD from sys.path while we load stuff.\n"
          ],
          "name": "stderr"
        },
        {
          "output_type": "execute_result",
          "data": {
            "text/html": [
              "<div>\n",
              "<style scoped>\n",
              "    .dataframe tbody tr th:only-of-type {\n",
              "        vertical-align: middle;\n",
              "    }\n",
              "\n",
              "    .dataframe tbody tr th {\n",
              "        vertical-align: top;\n",
              "    }\n",
              "\n",
              "    .dataframe thead th {\n",
              "        text-align: right;\n",
              "    }\n",
              "</style>\n",
              "<table border=\"1\" class=\"dataframe\">\n",
              "  <thead>\n",
              "    <tr style=\"text-align: right;\">\n",
              "      <th></th>\n",
              "      <th>paper_id</th>\n",
              "      <th>title</th>\n",
              "      <th>abstract</th>\n",
              "      <th>text</th>\n",
              "    </tr>\n",
              "  </thead>\n",
              "  <tbody>\n",
              "    <tr>\n",
              "      <th>0</th>\n",
              "      <td>86a998617c077f4fe2ab26214995a3548fbc0fc5</td>\n",
              "      <td>Middle East Respiratory Syndrome and Severe Ac...</td>\n",
              "      <td>The recent emergence of the Middle East respir...</td>\n",
              "      <td>Middle East Respiratory Syndrome and Severe Ac...</td>\n",
              "    </tr>\n",
              "    <tr>\n",
              "      <th>1</th>\n",
              "      <td>948aaeb2e0be11ad90562bf10d462531a1f00eac</td>\n",
              "      <td>Integrated, Multi-cohort Analysis Identifies C...</td>\n",
              "      <td>Graphical Abstract Highlights d MVS is a commo...</td>\n",
              "      <td>Integrated, Multi-cohort Analysis Identifies C...</td>\n",
              "    </tr>\n",
              "    <tr>\n",
              "      <th>2</th>\n",
              "      <td>ab680d5dbc4f51252da3473109a7885dd6b5eb6f</td>\n",
              "      <td>Evolutionary Medicine IV. Evolution and Emerge...</td>\n",
              "      <td></td>\n",
              "      <td>Evolutionary Medicine IV. Evolution and Emerge...</td>\n",
              "    </tr>\n",
              "    <tr>\n",
              "      <th>3</th>\n",
              "      <td>6599ebbef3d868afac9daa4f80fa075675cf03bc</td>\n",
              "      <td>International aviation emissions to 2025: Can ...</td>\n",
              "      <td>International aviation is growing rapidly, res...</td>\n",
              "      <td>International aviation emissions to 2025: Can ...</td>\n",
              "    </tr>\n",
              "    <tr>\n",
              "      <th>4</th>\n",
              "      <td>eb5c7f3ff921ad6469b79cc8a3c122648204ece4</td>\n",
              "      <td>2 Mechanisms of diarrhoea</td>\n",
              "      <td></td>\n",
              "      <td>2 Mechanisms of diarrhoea  Acute infections of...</td>\n",
              "    </tr>\n",
              "  </tbody>\n",
              "</table>\n",
              "</div>"
            ],
            "text/plain": [
              "                                   paper_id  \\\n",
              "0  86a998617c077f4fe2ab26214995a3548fbc0fc5   \n",
              "1  948aaeb2e0be11ad90562bf10d462531a1f00eac   \n",
              "2  ab680d5dbc4f51252da3473109a7885dd6b5eb6f   \n",
              "3  6599ebbef3d868afac9daa4f80fa075675cf03bc   \n",
              "4  eb5c7f3ff921ad6469b79cc8a3c122648204ece4   \n",
              "\n",
              "                                               title  \\\n",
              "0  Middle East Respiratory Syndrome and Severe Ac...   \n",
              "1  Integrated, Multi-cohort Analysis Identifies C...   \n",
              "2  Evolutionary Medicine IV. Evolution and Emerge...   \n",
              "3  International aviation emissions to 2025: Can ...   \n",
              "4                          2 Mechanisms of diarrhoea   \n",
              "\n",
              "                                            abstract  \\\n",
              "0  The recent emergence of the Middle East respir...   \n",
              "1  Graphical Abstract Highlights d MVS is a commo...   \n",
              "2                                                      \n",
              "3  International aviation is growing rapidly, res...   \n",
              "4                                                      \n",
              "\n",
              "                                                text  \n",
              "0  Middle East Respiratory Syndrome and Severe Ac...  \n",
              "1  Integrated, Multi-cohort Analysis Identifies C...  \n",
              "2  Evolutionary Medicine IV. Evolution and Emerge...  \n",
              "3  International aviation emissions to 2025: Can ...  \n",
              "4  2 Mechanisms of diarrhoea  Acute infections of...  "
            ]
          },
          "metadata": {
            "tags": []
          },
          "execution_count": 78
        }
      ]
    },
    {
      "cell_type": "code",
      "metadata": {
        "id": "DCeS02xcxPgj",
        "colab_type": "code",
        "colab": {}
      },
      "source": [
        "#Merge all the DF\n",
        "noncom_df = pd.read_csv(\"../intermediate_result/noncomm.csv\")\n",
        "noncom_df[\"type\"] = \"non-commercial\"\n",
        "\n",
        "com_df = pd.read_csv(\"../intermediate_result/comm.csv\")\n",
        "com_df[\"type\"] = \"commercial\"\n",
        "\n",
        "bio_med_df = pd.read_csv(\"../intermediate_result/biorxiv_medrxiv.csv\")\n",
        "bio_med_df[\"type\"] = \"biorXiv-medrXiv\"\n",
        "\n",
        "elsevier_df = pd.read_csv(\"../intermediate_result/elsevier.csv\")\n",
        "elsevier_df[\"type\"] = \"elsevier\"\n",
        "\n",
        "article_df = pd.concat([noncom_df, com_df, bio_med_df, elsevier_df], axis=0)\n",
        "del noncom_df, com_df, bio_med_df, elsevier_df\n",
        "article_df.to_csv(\"../intermediate_result/article_df.csv\", index=False)"
      ],
      "execution_count": 0,
      "outputs": []
    },
    {
      "cell_type": "markdown",
      "metadata": {
        "id": "SXa7g8cBxPgm",
        "colab_type": "text"
      },
      "source": [
        "# Train Doc2Vec"
      ]
    },
    {
      "cell_type": "code",
      "metadata": {
        "id": "gXGBXPPDxPgn",
        "colab_type": "code",
        "colab": {}
      },
      "source": [
        "#Import document\n",
        "article_df = pd.read_csv(\"/content/drive/My Drive/article_df.csv\")\n",
        "article_df.text = article_df.text.apply(lambda x: x.lower())\n",
        "text = article_df.text.apply(lambda x: word_tokenize(x)).tolist()"
      ],
      "execution_count": 0,
      "outputs": []
    },
    {
      "cell_type": "code",
      "metadata": {
        "id": "nMXs1L75ySYA",
        "colab_type": "code",
        "colab": {}
      },
      "source": [
        "#Train Doc2Vec\n",
        "documents = [TaggedDocument(doc, [i]) for i, doc in enumerate(text)]\n",
        "model = Doc2Vec(documents, vector_size=300, window=15, min_count=1, workers=20, \n",
        "                dm=0, sample=1e-5, negative=5, hs=0, dbow_words=1, dm_concat=1,\n",
        "                epochs=100)"
      ],
      "execution_count": 0,
      "outputs": []
    }
  ]
}